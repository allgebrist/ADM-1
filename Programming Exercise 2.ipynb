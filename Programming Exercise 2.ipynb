{
  "nbformat": 4,
  "nbformat_minor": 0,
  "metadata": {
    "colab": {
      "name": "Copy of ADM1_ProgrammingExercise_2.ipynb",
      "provenance": [],
      "collapsed_sections": []
    },
    "kernelspec": {
      "name": "python3",
      "display_name": "Python 3"
    },
    "language_info": {
      "name": "python"
    }
  },
  "cells": [
    {
      "cell_type": "markdown",
      "source": [
        "## Introduction to Linear and Discrete Optimization (ADM I): Programming Exercise 2"
      ],
      "metadata": {
        "id": "r5qqe5rU8teJ"
      }
    },
    {
      "cell_type": "markdown",
      "source": [
        "Technische Universität Berlin, Straße des 17. Juni 135, 10623 Berlin, Deutschland\n",
        "\n",
        "---\n",
        "\n",
        "### Homework Group 7\n",
        "\n",
        "**Mikhail Farber, Tim Rüttinger and Allan A. Zea**\n",
        "\n",
        "*Disclaimer: The use of this material without permission of the authors is strictly prohibited.*"
      ],
      "metadata": {
        "id": "18EVtLpC8uf5"
      }
    },
    {
      "cell_type": "code",
      "metadata": {
        "id": "vULM94XdPxxx",
        "colab": {
          "base_uri": "https://localhost:8080/"
        },
        "outputId": "553c6f5c-e718-4157-fc1c-94d6a1166c9a"
      },
      "source": [
        "!pip install picos\n",
        "!pip install gurobipy\n",
        "!pip install mosek\n",
        "!pip install swiglpk\n",
        "import picos\n",
        "import numpy as np"
      ],
      "execution_count": 1,
      "outputs": [
        {
          "output_type": "stream",
          "name": "stdout",
          "text": [
            "Requirement already satisfied: picos in /usr/local/lib/python3.7/dist-packages (2.3.1)\n",
            "Requirement already satisfied: numpy in /usr/local/lib/python3.7/dist-packages (from picos) (1.19.5)\n",
            "Requirement already satisfied: cvxopt in /usr/local/lib/python3.7/dist-packages (from picos) (1.2.7)\n",
            "Requirement already satisfied: gurobipy in /usr/local/lib/python3.7/dist-packages (9.5.0)\n",
            "Requirement already satisfied: mosek in /usr/local/lib/python3.7/dist-packages (9.3.11)\n",
            "Requirement already satisfied: numpy in /usr/local/lib/python3.7/dist-packages (from mosek) (1.19.5)\n",
            "Requirement already satisfied: swiglpk in /usr/local/lib/python3.7/dist-packages (5.0.3)\n"
          ]
        }
      ]
    },
    {
      "cell_type": "markdown",
      "metadata": {
        "id": "59u5PiOKgC8H"
      },
      "source": [
        "Recall the **Scheduling Problem on Parallel Machines** from the Exercise-Videos 1.3a-1.3c. In this programming exercise, we will extend the time-indexed formulation to the case of non-identical machines. In this setting (known as **unrelated machines** in the litterature on scheduling theory), the processing time of a job depends on the machine on which it is executed; Each job has to be executed on exactly one machine, and the execution of job $j\\in J=\\{0,\\ldots,n-1\\}$ on machine $i\\in M=\\{0,\\ldots,m-1\\}$ requires $p_{i,j}\\in\\mathbb{N}$ units of processing time. Each machine can process at most one job at a time, and the jobs must be exectuded *non-preemtively*, i.e., jobs cannot be interrupted once started.\n",
        "\n",
        "**Task:** Given some nonnegative weights $w_j$ ($\\forall j\\in J$) and some integer processing times $p_{i,j}$ ($\\forall i,j \\in M\\times J$), find a *schedule* minimizing the weighted sum of completion time $\\sum_{j\\in J} w_j C_j$. Here, a schedule must specify the starting time $S_j\\geq 0$ of each job $j\\in J$, and the machine $M_j\\in M$ on which it is executed.\n",
        "\n",
        "Generate some unique data for the problem using the following cell, by replacing GROUP by the number of your homework group. Then, formulate the scheduling problem as an IP by adapting the **time-indexed formulation** of the Exercise-Video 1.3c. You are expected to solve both the integer program and its LP-relaxation with the method of your choice: you can either use the PICOS/gurobi framwork that is pre-installed in this notebook, or download the data as a .json file and solve the problem with your favorite solver or interface (ZIMPL/SCIP, cvxpy with any solver, gurobipy interface to gurobi, ...).\n",
        "\n",
        "Return the solution via ISIS by outputing the solution in the following form: \n",
        "\n",
        "``OPT_LP OPT_IP {0: (M0,S0),, 1: (M1,S1), 2: (M2,S2), ... }``,\n",
        "\n",
        "where\n",
        "  * ``OPT_LP`` is the value of the optimal objective function in the linear programming relaxation of the problem.\n",
        "  * ``OPT_IP`` is the value of the optimal objective function of the problem, i.e., $\\sum_{j\\in J} w_j C_j$\n",
        "  * ``Sj`` is the starting time of job $j$, for $j=0,...,n-1$\n",
        "  * ``Mj`` is the machine executing job $j$, for $j=0,...,n-1$.\n",
        "\n",
        "**Hint** You will need to introduce variables ``x[i,j,t]`` for several triples $(i,j,t)$ to indicate that job $j$ starts (or completes, as you like) on machine $i$ at time $t$. A bound for the time horizon of the problem is $T=\\lceil (\\frac{n}{m}+1) p_{\\max} \\rceil$, where $p_{\\max}$ is an upper bound for all processing times (*why?*). If x is a dictionary (initialized empty: `x={}`), you can introduce such variables in picos within a for-loop iterating over `(i,j,t)` as follows:\n",
        " * ``x[i,j,t] = picos.RealVariable(f'x[{i},{j},{t}]',lower=0,upper=1)`` for a real variable in the interval $[0,1]$;\n",
        " * ``x[i,j,t] = picos.BinaryVariable(f'x[{i},{j},{t}]')`` for a binary variable.\n",
        "\n",
        "After having solved the problem, you can get the value of the optimal variables $x^*$ with `x_star = picos.value(x)`."
      ]
    },
    {
      "cell_type": "code",
      "metadata": {
        "id": "n2kT9B7qP-56",
        "colab": {
          "base_uri": "https://localhost:8080/",
          "height": 69
        },
        "outputId": "4dd70378-df35-43d1-810d-2917b073edb1"
      },
      "source": [
        "import picos\n",
        "\n",
        "my_group = 7\n",
        "\n",
        "#function to get a seed for your group # DO NOT CHANGE THIS FUNCTION !\n",
        "def get_seed_for_my_group(group_number):\n",
        "  return [1, 3,  5,  6,  9, 10, 11, 14, 15, 16, 17, 19, 20, 21, 23, 24, 26, 27,\n",
        "          36, 37, 40, 41, 42, 43, 47,49, 51, 56, 58, 59, 60, 63, 65, 67, 71, 77,\n",
        "          78, 81, 85, 87, 91, 92, 93, 95, 97, 101, 104, 110, 111, 113, 115,\n",
        "          117, 118][group_number]\n",
        "\n",
        "\n",
        "#seed the pseudo-random number generator with your group number\n",
        "seed = get_seed_for_my_group(my_group)\n",
        "np.random.seed(seed)\n",
        "\n",
        "#generate the data\n",
        "n = 14                                  # number of jobs\n",
        "m = 4                                   # number of machines\n",
        "pmax = 8                                # processing times are between 1 and pmax\n",
        "w = np.random.randint(1, 101, n)        # w[j] is the weight of job j\n",
        "p = np.random.randint(1, pmax + 1, (m, n)) # p[i,j] is the processing time \n",
        "                                      #        of job j on machine i         \n",
        "\n",
        "#uncomment the following block to save the data as a .json file that you can\n",
        "#use with your favorite software\n",
        "\"\"\"\n",
        "from google.colab import files\n",
        "import json\n",
        "\n",
        "data = {'n':n,\n",
        "        'm':m,\n",
        "        'pmax': pmax,\n",
        "        'p': {i: {j: int(p[i,j]) for j in range(n)} for i in range(m)},\n",
        "        'w': {j: int(w[j]) for j in range(n)}\n",
        "        }\n",
        "with open('ADM1_prog_ex2_data.json','w') as fp:\n",
        "  json.dump(data, fp, indent=4)\n",
        "\n",
        "files.download('ADM1_prog_ex2_data.json')\n",
        "\"\"\""
      ],
      "execution_count": 2,
      "outputs": [
        {
          "output_type": "execute_result",
          "data": {
            "application/vnd.google.colaboratory.intrinsic+json": {
              "type": "string"
            },
            "text/plain": [
              "\"\\nfrom google.colab import files\\nimport json\\n\\ndata = {'n':n,\\n        'm':m,\\n        'pmax': pmax,\\n        'p': {i: {j: int(p[i,j]) for j in range(n)} for i in range(m)},\\n        'w': {j: int(w[j]) for j in range(n)}\\n        }\\nwith open('ADM1_prog_ex2_data.json','w') as fp:\\n  json.dump(data, fp, indent=4)\\n\\nfiles.download('ADM1_prog_ex2_data.json')\\n\""
            ]
          },
          "metadata": {},
          "execution_count": 2
        }
      ]
    },
    {
      "cell_type": "markdown",
      "metadata": {
        "id": "ajRdDsnRfwlp"
      },
      "source": [
        "You can implement you IP/LP in the following cells"
      ]
    },
    {
      "cell_type": "markdown",
      "source": [
        "---\n",
        "\n",
        "## Integer Program (IP) formulation"
      ],
      "metadata": {
        "id": "TzcrSmMt8A8L"
      }
    },
    {
      "cell_type": "code",
      "metadata": {
        "id": "IEg4hHjfep9N"
      },
      "source": [
        "IP = picos.Problem()\n",
        "\n",
        "x_IP = {}\n",
        "T = int((n / m + 1) * pmax) - 2\n",
        "\n",
        "for i in range(m):\n",
        "  for j in range(n):\n",
        "    for t in range(T):\n",
        "      if t >= p[i,j]:\n",
        "        x_IP[i,j,t] = picos.BinaryVariable(f'x_IP[{i},{j},{t}]')\n",
        "      else:\n",
        "        x_IP[i,j,t] = 0"
      ],
      "execution_count": 3,
      "outputs": []
    },
    {
      "cell_type": "code",
      "metadata": {
        "id": "ylHExVYYgDs7",
        "colab": {
          "base_uri": "https://localhost:8080/"
        },
        "outputId": "0d16b45c-cd08-4ddc-c4f9-d1d37456ef8b"
      },
      "source": [
        "objective_IP =  picos.sum(w[j] * x_IP[i,j,t] * t for i in range(m) for j in range(n) for t in range(T))\n",
        "IP.set_objective(\"min\", objective_IP)\n",
        "\n",
        "print(IP)"
      ],
      "execution_count": 4,
      "outputs": [
        {
          "output_type": "stream",
          "name": "stdout",
          "text": [
            "Integer Linear Program\n",
            "  minimize ∑(0, …, 78·x_IP[3,13,33]·33)\n",
            "  over\n",
            "    1×1 binary variable x_IP[i,j,k] ∀ (i,j,k) ∈\n",
            "      zip([0,0,…,3,3],[0,0,…,13,13],[3,4,…,32,33])\n"
          ]
        }
      ]
    },
    {
      "cell_type": "code",
      "metadata": {
        "id": "2jHedNPNgDyS"
      },
      "source": [
        "for j in range(n):\n",
        "  IP += (picos.sum([x_IP[i,j,t] for i in range(m) for t in range(p[i,j], T)]) == 1)\n",
        "\n",
        "# capacity constraints\n",
        "for i in range(m):\n",
        "    for t in range(T):\n",
        "      capacity = picos.sum([x_IP[i,j,s] for j in range(n) for s in range(t, min(t + p[i,j], T))])\n",
        "      if not isinstance(capacity, int):\n",
        "        IP += (capacity <= 1)"
      ],
      "execution_count": 5,
      "outputs": []
    },
    {
      "cell_type": "code",
      "metadata": {
        "id": "aqi5MApSUkfu",
        "colab": {
          "base_uri": "https://localhost:8080/"
        },
        "outputId": "9c7862f6-7de2-4a46-c6cd-b7f95d83a8e6"
      },
      "source": [
        "IP.solve(verbosity = 1, solver = 'gurobi')"
      ],
      "execution_count": 6,
      "outputs": [
        {
          "output_type": "stream",
          "name": "stdout",
          "text": [
            "===================================\n",
            "            PICOS 2.3.1            \n",
            "===================================\n",
            "Problem type: Integer Linear Program.\n",
            "Searching a solution strategy for Gurobi.\n",
            "Solution strategy:\n",
            "  1. ExtraOptions\n",
            "  2. GurobiSolver\n",
            "Applying ExtraOptions.\n",
            "Building a Gurobi problem instance.\n",
            "Restricted license - for non-production use only - expires 2023-10-25\n",
            "Starting solution search.\n",
            "Set parameter FeasibilityTol to value 1e-08\n",
            "Set parameter OptimalityTol to value 1e-08\n",
            "Set parameter BarQCPConvTol to value 1e-10\n",
            "Set parameter MIPGapAbs to value 1e-06\n",
            "-----------------------------------\n",
            "         Gurobi Optimizer          \n",
            "-----------------------------------\n",
            "Gurobi Optimizer version 9.5.0 build v9.5.0rc5 (linux64)\n",
            "Thread count: 1 physical cores, 2 logical processors, using up to 2 threads\n",
            "Optimize a model with 146 rows, 1651 columns and 8810 nonzeros\n",
            "Model fingerprint: 0xbbda1f85\n",
            "Variable types: 0 continuous, 1651 integer (1651 binary)\n",
            "Coefficient statistics:\n",
            "  Matrix range     [1e+00, 1e+00]\n",
            "  Objective range  [2e+01, 3e+03]\n",
            "  Bounds range     [1e+00, 1e+00]\n",
            "  RHS range        [1e+00, 1e+00]\n",
            "\n",
            "No start values specified in MIP start\n",
            "\n",
            "Found heuristic solution: objective 12153.000000\n",
            "Presolve time: 0.03s\n",
            "Presolved: 146 rows, 1651 columns, 8814 nonzeros\n",
            "Variable types: 0 continuous, 1651 integer (1651 binary)\n",
            "Found heuristic solution: objective 6567.0000000\n",
            "\n",
            "Root relaxation: objective 2.375000e+03, 89 iterations, 0.01 seconds (0.00 work units)\n",
            "\n",
            "    Nodes    |    Current Node    |     Objective Bounds      |     Work\n",
            " Expl Unexpl |  Obj  Depth IntInf | Incumbent    BestBd   Gap | It/Node Time\n",
            "\n",
            "     0     0 2375.00000    0   12 6567.00000 2375.00000  63.8%     -    0s\n",
            "H    0     0                    2483.0000000 2375.00000  4.35%     -    0s\n",
            "H    0     0                    2381.0000000 2375.00000  0.25%     -    0s\n",
            "H    0     0                    2376.0000000 2375.00000  0.04%     -    0s\n",
            "\n",
            "Cutting planes:\n",
            "  Clique: 2\n",
            "  Mod-K: 2\n",
            "\n",
            "Explored 1 nodes (90 simplex iterations) in 0.13 seconds (0.02 work units)\n",
            "Thread count was 2 (of 2 available processors)\n",
            "\n",
            "Solution count 5: 2376 2381 2483 ... 12153\n",
            "\n",
            "Optimal solution found (tolerance 1.00e-04)\n",
            "Best objective 2.376000000000e+03, best bound 2.376000000000e+03, gap 0.0000%\n",
            "------------[ Gurobi ]-------------\n",
            "Solver claims optimal solution for feasible problem.\n",
            "Applying the solution.\n",
            "Applied solution is feasible.\n",
            "Search 1.5e-01s, solve 5.5e-01s, overhead 269%.\n",
            "=============[ PICOS ]=============\n"
          ]
        },
        {
          "output_type": "execute_result",
          "data": {
            "text/plain": [
              "<feasible primal solution (claimed optimal) from gurobi>"
            ]
          },
          "metadata": {},
          "execution_count": 6
        }
      ]
    },
    {
      "cell_type": "code",
      "source": [
        "x_star_IP = picos.value(x_IP)"
      ],
      "metadata": {
        "id": "_sg_uxCT2idl"
      },
      "execution_count": 7,
      "outputs": []
    },
    {
      "cell_type": "code",
      "source": [
        "IP.value"
      ],
      "metadata": {
        "colab": {
          "base_uri": "https://localhost:8080/"
        },
        "id": "2gwit1b0M8fO",
        "outputId": "21ceaf5d-3896-4910-c728-2b3db3f3537b"
      },
      "execution_count": 8,
      "outputs": [
        {
          "output_type": "execute_result",
          "data": {
            "text/plain": [
              "2376.0"
            ]
          },
          "metadata": {},
          "execution_count": 8
        }
      ]
    },
    {
      "cell_type": "code",
      "source": [
        "index_IP = 1\n",
        "solution_IP = {}\n",
        "for i in range(m):\n",
        "  for j in range(n):\n",
        "    for t in range(T):\n",
        "      if x_star_IP[i,j,t] != 0:\n",
        "        solution_IP[index_IP] = (j,t)\n",
        "        index_IP += 1"
      ],
      "metadata": {
        "id": "4e1VfLpdmn69"
      },
      "execution_count": 9,
      "outputs": []
    },
    {
      "cell_type": "code",
      "source": [
        "solution_IP"
      ],
      "metadata": {
        "colab": {
          "base_uri": "https://localhost:8080/"
        },
        "id": "bdshmtIBuGYv",
        "outputId": "28afa81c-54f9-4c94-e41a-c6d576911c9d"
      },
      "execution_count": 10,
      "outputs": [
        {
          "output_type": "execute_result",
          "data": {
            "text/plain": [
              "{1: (2, 2),\n",
              " 2: (9, 4),\n",
              " 3: (10, 1),\n",
              " 4: (12, 8),\n",
              " 5: (4, 1),\n",
              " 6: (6, 6),\n",
              " 7: (8, 2),\n",
              " 8: (11, 10),\n",
              " 9: (3, 4),\n",
              " 10: (5, 9),\n",
              " 11: (7, 1),\n",
              " 12: (0, 2),\n",
              " 13: (1, 8),\n",
              " 14: (13, 6)}"
            ]
          },
          "metadata": {},
          "execution_count": 10
        }
      ]
    },
    {
      "cell_type": "markdown",
      "source": [
        "---\n",
        "\n",
        "## LP relaxation"
      ],
      "metadata": {
        "id": "aou4GtfbnUAG"
      }
    },
    {
      "cell_type": "code",
      "source": [
        "LP = picos.Problem()\n",
        "\n",
        "x_LP = {}\n",
        "T = int((n / m + 1) * pmax) - 2\n",
        "\n",
        "for i in range(m):\n",
        "  for j in range(n):\n",
        "    for t in range(T):\n",
        "      if t >= p[i,j]:\n",
        "        x_LP[i,j,t] = picos.RealVariable(f'x_LP[{i},{j},{t}]', lower = 0, upper = 1)\n",
        "      else:\n",
        "        x_LP[i,j,t] = 0"
      ],
      "metadata": {
        "id": "4uQv21Y-nV2m"
      },
      "execution_count": 11,
      "outputs": []
    },
    {
      "cell_type": "code",
      "source": [
        "objective_LP =  picos.sum(w[j] * x_LP[i,j,t] * t for i in range(m) for j in range(n) for t in range(T))\n",
        "LP.set_objective(\"min\", objective_LP)\n",
        "\n",
        "print(LP)"
      ],
      "metadata": {
        "colab": {
          "base_uri": "https://localhost:8080/"
        },
        "id": "m9FHcio-ndYv",
        "outputId": "a8c400ad-abcb-4ac0-c95f-61d5d1c0cf6f"
      },
      "execution_count": 12,
      "outputs": [
        {
          "output_type": "stream",
          "name": "stdout",
          "text": [
            "Linear Program\n",
            "  minimize ∑(0, …, 78·x_LP[3,13,33]·33)\n",
            "  over\n",
            "    1×1 real variable x_LP[i,j,k] (clamped) ∀ (i,j,k) ∈\n",
            "      zip([0,0,…,3,3],[0,0,…,13,13],[3,4,…,32,33])\n"
          ]
        }
      ]
    },
    {
      "cell_type": "code",
      "source": [
        "for j in range(n):\n",
        "  LP += (picos.sum([x_LP[i,j,t] for i in range(m) for t in range(p[i,j], T)]) == 1)\n",
        "\n",
        "# capacity constraints\n",
        "for i in range(m):\n",
        "    for t in range(T):\n",
        "      capacity = picos.sum([x_LP[i,j,s] for j in range(n) for s in range(t, min(t + p[i,j], T))])\n",
        "      if not isinstance(capacity, int):\n",
        "        LP += (capacity <= 1)"
      ],
      "metadata": {
        "id": "ClyFWdVpnrCt"
      },
      "execution_count": 13,
      "outputs": []
    },
    {
      "cell_type": "code",
      "source": [
        "LP.solve(verbosity = 1, solver = 'gurobi')"
      ],
      "metadata": {
        "colab": {
          "base_uri": "https://localhost:8080/"
        },
        "id": "848NkR4-n2aD",
        "outputId": "854177c7-365f-4a64-9a23-da1fe49c22ec"
      },
      "execution_count": 14,
      "outputs": [
        {
          "output_type": "stream",
          "name": "stdout",
          "text": [
            "===================================\n",
            "            PICOS 2.3.1            \n",
            "===================================\n",
            "Problem type: Linear Program.\n",
            "Searching a solution strategy for Gurobi.\n",
            "Solution strategy:\n",
            "  1. ExtraOptions\n",
            "  2. GurobiSolver\n",
            "Applying ExtraOptions.\n",
            "Building a Gurobi problem instance.\n",
            "Starting solution search.\n",
            "Set parameter FeasibilityTol to value 1e-08\n",
            "Set parameter OptimalityTol to value 1e-08\n",
            "Set parameter BarQCPConvTol to value 1e-10\n",
            "Set parameter MIPGapAbs to value 1e-06\n",
            "Set parameter QCPDual to value 1\n",
            "-----------------------------------\n",
            "         Gurobi Optimizer          \n",
            "-----------------------------------\n",
            "Gurobi Optimizer version 9.5.0 build v9.5.0rc5 (linux64)\n",
            "Thread count: 1 physical cores, 2 logical processors, using up to 2 threads\n",
            "Optimize a model with 146 rows, 1651 columns and 8810 nonzeros\n",
            "Model fingerprint: 0x5e098f85\n",
            "Coefficient statistics:\n",
            "  Matrix range     [1e+00, 1e+00]\n",
            "  Objective range  [2e+01, 3e+03]\n",
            "  Bounds range     [1e+00, 1e+00]\n",
            "  RHS range        [1e+00, 1e+00]\n",
            "Presolve time: 0.03s\n",
            "Presolved: 146 rows, 1651 columns, 8810 nonzeros\n",
            "\n",
            "Iteration    Objective       Primal Inf.    Dual Inf.      Time\n",
            "       0    1.5110000e+03   1.800000e+01   0.000000e+00      0s\n",
            "      82    2.3750000e+03   0.000000e+00   0.000000e+00      0s\n",
            "\n",
            "Solved in 82 iterations and 0.05 seconds (0.00 work units)\n",
            "Optimal objective  2.375000000e+03\n",
            "------------[ Gurobi ]-------------\n",
            "Solver claims optimal solution for feasible problem.\n",
            "Applying the solution.\n",
            "Applied solution is primal feasible.\n",
            "Search 7.8e-02s, solve 9.9e-01s, overhead 1171%.\n",
            "=============[ PICOS ]=============\n"
          ]
        },
        {
          "output_type": "execute_result",
          "data": {
            "text/plain": [
              "<primal feasible solution pair (claimed optimal) from gurobi>"
            ]
          },
          "metadata": {},
          "execution_count": 14
        }
      ]
    },
    {
      "cell_type": "code",
      "source": [
        "x_star_LP = picos.value(x_LP)"
      ],
      "metadata": {
        "id": "J5PUn8bgn5kW"
      },
      "execution_count": 15,
      "outputs": []
    },
    {
      "cell_type": "code",
      "source": [
        "LP.value"
      ],
      "metadata": {
        "colab": {
          "base_uri": "https://localhost:8080/"
        },
        "id": "8x8_FwiAn-8_",
        "outputId": "72cb47a5-8500-4710-bc5a-e542768f0596"
      },
      "execution_count": 16,
      "outputs": [
        {
          "output_type": "execute_result",
          "data": {
            "text/plain": [
              "2375.0"
            ]
          },
          "metadata": {},
          "execution_count": 16
        }
      ]
    },
    {
      "cell_type": "code",
      "source": [
        "index_LP = 1\n",
        "solution_LP = {}\n",
        "for i in range(m):\n",
        "  for j in range(n):\n",
        "    for t in range(T):\n",
        "      if x_star_LP[i,j,t] != 0:\n",
        "        print(x_star_LP[i,j,t])\n",
        "        solution_LP[index_LP] = (j,t)\n",
        "        print(index_LP,': ',j,t)\n",
        "        index_LP += 1"
      ],
      "metadata": {
        "colab": {
          "base_uri": "https://localhost:8080/"
        },
        "id": "Cy-FIVonu05r",
        "outputId": "4da63cd6-bc93-419e-818f-2f86f3942a5c"
      },
      "execution_count": 17,
      "outputs": [
        {
          "output_type": "stream",
          "name": "stdout",
          "text": [
            "0.5\n",
            "1 :  2 2\n",
            "0.5\n",
            "2 :  2 3\n",
            "0.25\n",
            "3 :  6 7\n",
            "0.25\n",
            "4 :  9 3\n",
            "0.75\n",
            "5 :  9 5\n",
            "1.0\n",
            "6 :  10 1\n",
            "0.75\n",
            "7 :  12 9\n",
            "0.25\n",
            "8 :  12 11\n",
            "1.0\n",
            "9 :  4 1\n",
            "0.75\n",
            "10 :  6 5\n",
            "0.25\n",
            "11 :  8 2\n",
            "0.25\n",
            "12 :  8 3\n",
            "0.25\n",
            "13 :  8 4\n",
            "0.25\n",
            "14 :  8 5\n",
            "1.0\n",
            "15 :  11 9\n",
            "1.0\n",
            "16 :  3 4\n",
            "1.0\n",
            "17 :  5 9\n",
            "1.0\n",
            "18 :  7 1\n",
            "1.0\n",
            "19 :  0 2\n",
            "1.0\n",
            "20 :  1 8\n",
            "1.0\n",
            "21 :  13 6\n"
          ]
        }
      ]
    },
    {
      "cell_type": "code",
      "source": [
        "solution_LP"
      ],
      "metadata": {
        "colab": {
          "base_uri": "https://localhost:8080/"
        },
        "id": "M0fjYQEYvFvq",
        "outputId": "6a3b99c3-1f27-487c-b8ac-55cdaf6afff9"
      },
      "execution_count": 18,
      "outputs": [
        {
          "output_type": "execute_result",
          "data": {
            "text/plain": [
              "{1: (2, 2),\n",
              " 2: (2, 3),\n",
              " 3: (6, 7),\n",
              " 4: (9, 3),\n",
              " 5: (9, 5),\n",
              " 6: (10, 1),\n",
              " 7: (12, 9),\n",
              " 8: (12, 11),\n",
              " 9: (4, 1),\n",
              " 10: (6, 5),\n",
              " 11: (8, 2),\n",
              " 12: (8, 3),\n",
              " 13: (8, 4),\n",
              " 14: (8, 5),\n",
              " 15: (11, 9),\n",
              " 16: (3, 4),\n",
              " 17: (5, 9),\n",
              " 18: (7, 1),\n",
              " 19: (0, 2),\n",
              " 20: (1, 8),\n",
              " 21: (13, 6)}"
            ]
          },
          "metadata": {},
          "execution_count": 18
        }
      ]
    }
  ]
}