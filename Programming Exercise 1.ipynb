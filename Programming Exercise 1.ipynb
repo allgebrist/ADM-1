{
 "cells": [
  {
   "cell_type": "markdown",
   "metadata": {
    "id": "aRv2cASRNgbW"
   },
   "source": [
    "## Introduction to Linear and Discrete Optimization (ADM I): Programming Exercise 1"
   ]
  },
  {
   "cell_type": "markdown",
   "metadata": {
    "id": "r1Jn2SWAMxt6"
   },
   "source": [
    "Technische Universität Berlin, Straße des 17. Juni 135, 10623 Berlin, Deutschland\n",
    "\n",
    "---\n",
    "\n",
    "### Homework Group 7\n",
    "\n",
    "**Mikhail Farber, Tim Rüttinger and Allan A. Zea**\n",
    "\n",
    "*Disclaimer: The use of this material without permission of the authors is strictly prohibited.*\n",
    "\n",
    "---"
   ]
  },
  {
   "cell_type": "markdown",
   "metadata": {
    "id": "7TReFIAXv9E9"
   },
   "source": [
    "The code in this cell installs the required software:"
   ]
  },
  {
   "cell_type": "code",
   "execution_count": 1,
   "metadata": {
    "colab": {
     "base_uri": "https://localhost:8080/"
    },
    "id": "2TJWttOEvJnY",
    "outputId": "a5e71d54-f5ec-40d1-c20f-53ff917c4410"
   },
   "outputs": [
    {
     "name": "stdout",
     "output_type": "stream",
     "text": [
      "Collecting picos\n",
      "  Downloading PICOS-2.3.1.tar.gz (332 kB)\n",
      "\u001b[?25l\r",
      "\u001b[K     |█                               | 10 kB 22.3 MB/s eta 0:00:01\r",
      "\u001b[K     |██                              | 20 kB 28.5 MB/s eta 0:00:01\r",
      "\u001b[K     |███                             | 30 kB 32.5 MB/s eta 0:00:01\r",
      "\u001b[K     |████                            | 40 kB 36.6 MB/s eta 0:00:01\r",
      "\u001b[K     |█████                           | 51 kB 39.2 MB/s eta 0:00:01\r",
      "\u001b[K     |██████                          | 61 kB 40.3 MB/s eta 0:00:01\r",
      "\u001b[K     |███████                         | 71 kB 40.7 MB/s eta 0:00:01\r",
      "\u001b[K     |███████▉                        | 81 kB 42.7 MB/s eta 0:00:01\r",
      "\u001b[K     |████████▉                       | 92 kB 41.5 MB/s eta 0:00:01\r",
      "\u001b[K     |█████████▉                      | 102 kB 38.1 MB/s eta 0:00:01\r",
      "\u001b[K     |██████████▉                     | 112 kB 38.1 MB/s eta 0:00:01\r",
      "\u001b[K     |███████████▉                    | 122 kB 38.1 MB/s eta 0:00:01\r",
      "\u001b[K     |████████████▉                   | 133 kB 38.1 MB/s eta 0:00:01\r",
      "\u001b[K     |█████████████▉                  | 143 kB 38.1 MB/s eta 0:00:01\r",
      "\u001b[K     |██████████████▊                 | 153 kB 38.1 MB/s eta 0:00:01\r",
      "\u001b[K     |███████████████▊                | 163 kB 38.1 MB/s eta 0:00:01\r",
      "\u001b[K     |████████████████▊               | 174 kB 38.1 MB/s eta 0:00:01\r",
      "\u001b[K     |█████████████████▊              | 184 kB 38.1 MB/s eta 0:00:01\r",
      "\u001b[K     |██████████████████▊             | 194 kB 38.1 MB/s eta 0:00:01\r",
      "\u001b[K     |███████████████████▊            | 204 kB 38.1 MB/s eta 0:00:01\r",
      "\u001b[K     |████████████████████▊           | 215 kB 38.1 MB/s eta 0:00:01\r",
      "\u001b[K     |█████████████████████▋          | 225 kB 38.1 MB/s eta 0:00:01\r",
      "\u001b[K     |██████████████████████▋         | 235 kB 38.1 MB/s eta 0:00:01\r",
      "\u001b[K     |███████████████████████▋        | 245 kB 38.1 MB/s eta 0:00:01\r",
      "\u001b[K     |████████████████████████▋       | 256 kB 38.1 MB/s eta 0:00:01\r",
      "\u001b[K     |█████████████████████████▋      | 266 kB 38.1 MB/s eta 0:00:01\r",
      "\u001b[K     |██████████████████████████▋     | 276 kB 38.1 MB/s eta 0:00:01\r",
      "\u001b[K     |███████████████████████████▋    | 286 kB 38.1 MB/s eta 0:00:01\r",
      "\u001b[K     |████████████████████████████▌   | 296 kB 38.1 MB/s eta 0:00:01\r",
      "\u001b[K     |█████████████████████████████▌  | 307 kB 38.1 MB/s eta 0:00:01\r",
      "\u001b[K     |██████████████████████████████▌ | 317 kB 38.1 MB/s eta 0:00:01\r",
      "\u001b[K     |███████████████████████████████▌| 327 kB 38.1 MB/s eta 0:00:01\r",
      "\u001b[K     |████████████████████████████████| 332 kB 38.1 MB/s \n",
      "\u001b[?25hRequirement already satisfied: cvxopt in /usr/local/lib/python3.7/dist-packages (from picos) (1.2.7)\n",
      "Requirement already satisfied: numpy in /usr/local/lib/python3.7/dist-packages (from picos) (1.19.5)\n",
      "Building wheels for collected packages: picos\n",
      "  Building wheel for picos (setup.py) ... \u001b[?25l\u001b[?25hdone\n",
      "  Created wheel for picos: filename=PICOS-2.3.1-py3-none-any.whl size=469700 sha256=75c9758359d00df329617e765bbf0f917bd472444a58a6fc440cc5b405b5a504\n",
      "  Stored in directory: /root/.cache/pip/wheels/96/9d/7d/dbb86007eff747cef942f62276888ccba93ad1f006c216476b\n",
      "Successfully built picos\n",
      "Installing collected packages: picos\n",
      "Successfully installed picos-2.3.1\n",
      "Collecting gurobipy\n",
      "  Downloading gurobipy-9.5.0-cp37-cp37m-manylinux2014_x86_64.whl (11.5 MB)\n",
      "\u001b[K     |████████████████████████████████| 11.5 MB 25.2 MB/s \n",
      "\u001b[?25hInstalling collected packages: gurobipy\n",
      "Successfully installed gurobipy-9.5.0\n"
     ]
    }
   ],
   "source": [
    "!pip install picos\n",
    "!pip install gurobipy\n",
    "import picos\n",
    "import numpy as np"
   ]
  },
  {
   "cell_type": "markdown",
   "metadata": {
    "id": "E--sOKQAwTFl"
   },
   "source": [
    "Consider the following problem. \n",
    "\n",
    "**Given**: a finite set $N = \\{1,\\ldots , n\\}$, distances $d_{ij} \\geq 0$ for all $i, j \\in N$ with $d_{ii} = 0$ for all $i\\in N$ ,\n",
    "and an integer $k \\in \\{1, \\ldots , n\\}$.\n",
    "\n",
    "**Task**: choose a subset $C \\subseteq N$ with $|C| \\leq k$ such that $\\max_{i\\in N} \\min_{j\\in C} d_{ij}$ is minimized.\n",
    "\n",
    "Generate some unique data for the problem using the following cell, by replacing `SEED` by the number of your homework group. Then, formulate the above optimization problem as an IP and solve the problem with the method of your choice: you can either use the  PICOS/gurobi framwork that is pre-installed in this notebook, or download the data as a csv file and solve the problem with your favorite solver or interface (ZIMPL/SCIP, cvxpy with any solver, gurobipy interface to gurobi, ...).\n",
    "\n",
    "**Hint**\n",
    "The task can be reformulated as follows: Choose a subset $C \\subseteq N$ and a mapping $a \\colon N \\to C$ such that $\\max_{i \\in N} d_{i,a(i)}$ is minimized.\n",
    "\n",
    "Return the solution via ISIS by outputing the solution in the following form: if the optimal max-min distance is 52, and the subset C is {1,4,5}, write\n",
    "``D = 52; C = {1, 4, 5}`` in the text field on ISIS."
   ]
  },
  {
   "cell_type": "code",
   "execution_count": 10,
   "metadata": {
    "colab": {
     "base_uri": "https://localhost:8080/",
     "height": 69
    },
    "id": "d84d9eogwHE7",
    "outputId": "15dc50f2-ad48-4760-bc16-e31b87b7f9c6"
   },
   "outputs": [
    {
     "data": {
      "application/vnd.google.colaboratory.intrinsic+json": {
       "type": "string"
      },
      "text/plain": [
       "\"\\nfrom google.colab import files\\nimport json\\n\\ndata = {'n':n,\\n        'k':k,\\n        'd':{i: {j: int(d[i,j]) for j in range(n)}\\n             for i in range(n)}\\n        }\\nwith open('ADM1_prog_ex1_data.json','w') as fp:\\n  json.dump(data, fp, indent=4)\\n\\nfiles.download('ADM1_prog_ex1_data.json')\\n\""
      ]
     },
     "execution_count": 10,
     "metadata": {},
     "output_type": "execute_result"
    }
   ],
   "source": [
    "#seed the pseudo-random number generator with your group number\n",
    "np.random.seed(7)\n",
    "\n",
    "#generate the data\n",
    "n, k = 20, 5\n",
    "d = np.random.randint(1, 101, (n,n)) # generate random integer matrix\n",
    "d = d + d.T                          # make data symmetric\n",
    "np.fill_diagonal(d, 0)              # zero-out the diagonal entries\n",
    "\n",
    "#uncomment the following block to save the data as a .json file that you can\n",
    "#use with your favorite software\n",
    "\"\"\"\n",
    "from google.colab import files\n",
    "import json\n",
    "\n",
    "data = {'n':n,\n",
    "        'k':k,\n",
    "        'd':{i: {j: int(d[i,j]) for j in range(n)}\n",
    "             for i in range(n)}\n",
    "        }\n",
    "with open('ADM1_prog_ex1_data.json','w') as fp:\n",
    "  json.dump(data, fp, indent=4)\n",
    "\n",
    "files.download('ADM1_prog_ex1_data.json')\n",
    "\"\"\""
   ]
  },
  {
   "cell_type": "markdown",
   "metadata": {
    "id": "sfNwsZa6CcVt"
   },
   "source": [
    "---\n",
    "\n",
    "## Our approach:\n",
    "\n",
    "To implement the integer linear program (IP) that solves this optimization problem, we first define two decision variables: $\\tilde{C}=[C_1,\\dots,C_n]$ and $A=({a_{ij}})_{1\\leq i,j\\leq n}$. The vector $\\tilde{C}$ is just a representation of the chosen subset $C\\subseteq N$, where $C_j=1$ if index $j\\in N$ belongs to $C$ and $C_j=0$ otherwise. We allow a small abuse of notation for the code section and let $C=\\tilde{C}$. The matrix $A$ helps us decide which distances one should take into account for the calculation of the given maximum; its entries $a_{ij}$ are given by $a_{ij}=1$ if $d_{ij}=\\min_{j'\\in C} d_{ij'}$ and $a_{ij}=0$ otherwise. The action of the mapping $a:N\\rightarrow C$ can therefore be summarized as $d_{i,a(i)}=\\sum_{j=1}^n d_{ij}a_{ij}$ for all $i\\in N$, which allows us to rephrase our objective function as $\\max_{i\\in N} d_{i,a(i)}=\\max_{i\\in N}\\sum_{j=1}^n d_{ij}a_{ij}$. Using the results on the optimization of piecewise convex objective functions (Chapter 2), we obtain the following IP with the respective constraints:\n",
    "\n",
    "$$\n",
    "\\text{minimize}\\quad z\\qquad\\qquad\\qquad\\qquad\\quad\\\\\n",
    "\\text{subject to}\\quad z\\geq\\sum_{j=1}^n d_{ij} a_{ij},\\quad\\forall i\\in N\\\\\n",
    "\\qquad\\sum_{j=1}^n C_{j}\\leq k,\\\\\n",
    "\\qquad\\qquad\\qquad\\sum_{j=1}^n a_{ij} = 1,\\quad \\forall i\\in N\\\\\n",
    "\\qquad\\quad\\quad\\sum_{i=1}^n a_{ij} \\leq C_j\\cdot k,\\quad \\forall j\\in N\\\\\n",
    "\\qquad\\qquad\\qquad\\qquad\\quad a_{ij}\\in\\{0,1\\},\\quad \\forall i\\in N,~j\\in N\\\\\n",
    "\\qquad\\qquad\\qquad C_{j}\\in\\{0,1\\},\\quad \\forall j\\in N\n",
    "$$\n",
    "\n",
    "\n",
    "We can now use the PICOS library to study this formulation."
   ]
  },
  {
   "cell_type": "code",
   "execution_count": 15,
   "metadata": {
    "colab": {
     "base_uri": "https://localhost:8080/"
    },
    "id": "Y7UtcGrgCkei",
    "outputId": "4930d43f-dd1d-4fb0-bd56-f70f2e517efc"
   },
   "outputs": [
    {
     "name": "stdout",
     "output_type": "stream",
     "text": [
      "Integer Linear Program\n",
      "  minimize z\n",
      "  over\n",
      "    1×1 integer variable z (bounded below)\n",
      "===================================\n",
      "            PICOS 2.3.1            \n",
      "===================================\n",
      "Problem type: Integer Linear Program.\n",
      "Searching a solution strategy for Gurobi.\n",
      "Solution strategy:\n",
      "  1. ExtraOptions\n",
      "  2. GurobiSolver\n",
      "Applying ExtraOptions.\n",
      "Building a Gurobi problem instance.\n",
      "Starting solution search.\n",
      "Set parameter FeasibilityTol to value 1e-08\n",
      "Set parameter OptimalityTol to value 1e-08\n",
      "Set parameter BarQCPConvTol to value 1e-10\n",
      "Set parameter MIPGapAbs to value 1e-06\n",
      "-----------------------------------\n",
      "         Gurobi Optimizer          \n",
      "-----------------------------------\n",
      "Gurobi Optimizer version 9.5.0 build v9.5.0rc5 (linux64)\n",
      "Thread count: 1 physical cores, 2 logical processors, using up to 2 threads\n",
      "Optimize a model with 61 rows, 421 columns and 1240 nonzeros\n",
      "Model fingerprint: 0x8496d4aa\n",
      "Variable types: 0 continuous, 421 integer (420 binary)\n",
      "Coefficient statistics:\n",
      "  Matrix range     [1e+00, 2e+02]\n",
      "  Objective range  [1e+00, 1e+00]\n",
      "  Bounds range     [1e+00, 1e+00]\n",
      "  RHS range        [1e+00, 5e+00]\n",
      "\n",
      "No start values specified in MIP start\n",
      "\n",
      "Found heuristic solution: objective 165.0000000\n",
      "Presolve removed 0 rows and 30 columns\n",
      "Presolve time: 0.01s\n",
      "Presolved: 61 rows, 391 columns, 1150 nonzeros\n",
      "Variable types: 0 continuous, 391 integer (390 binary)\n",
      "\n",
      "Root relaxation: objective 0.000000e+00, 48 iterations, 0.00 seconds (0.00 work units)\n",
      "\n",
      "    Nodes    |    Current Node    |     Objective Bounds      |     Work\n",
      " Expl Unexpl |  Obj  Depth IntInf | Incumbent    BestBd   Gap | It/Node Time\n",
      "\n",
      "     0     0    0.00000    0   19  165.00000    0.00000   100%     -    0s\n",
      "H    0     0                     103.0000000    0.00000   100%     -    0s\n",
      "H    0     0                     102.0000000    0.00000   100%     -    0s\n",
      "H    0     0                     100.0000000    0.00000   100%     -    0s\n",
      "     0     0   25.43541    0   66  100.00000   25.43541  74.6%     -    0s\n",
      "H    0     0                      97.0000000   25.43541  73.8%     -    0s\n",
      "     0     0   25.43541    0   19   97.00000   25.43541  73.8%     -    0s\n",
      "H    0     0                      92.0000000   25.43541  72.4%     -    0s\n",
      "H    0     0                      88.0000000   25.43541  71.1%     -    0s\n",
      "H    0     0                      86.0000000   25.43541  70.4%     -    0s\n",
      "     0     0   25.43541    0   67   86.00000   25.43541  70.4%     -    0s\n",
      "H    0     0                      79.0000000   25.43541  67.8%     -    0s\n",
      "H    0     0                      70.0000000   25.43541  63.7%     -    0s\n",
      "     0     0   35.58900    0   70   70.00000   35.58900  49.2%     -    0s\n",
      "     0     0   35.58900    0   53   70.00000   35.58900  49.2%     -    0s\n",
      "     0     0   42.75667    0   82   70.00000   42.75667  38.9%     -    0s\n",
      "H    0     0                      56.0000000   42.75667  23.6%     -    0s\n",
      "     0     0     cutoff    0        56.00000   56.00000  0.00%     -    0s\n",
      "\n",
      "Cutting planes:\n",
      "  Gomory: 3\n",
      "  Cover: 6\n",
      "  Clique: 3\n",
      "  MIR: 3\n",
      "  RLT: 1\n",
      "  Relax-and-lift: 7\n",
      "\n",
      "Explored 1 nodes (618 simplex iterations) in 0.20 seconds (0.02 work units)\n",
      "Thread count was 2 (of 2 available processors)\n",
      "\n",
      "Solution count 10: 56 70 79 ... 102\n",
      "\n",
      "Optimal solution found (tolerance 1.00e-04)\n",
      "Best objective 5.600000000000e+01, best bound 5.600000000000e+01, gap 0.0000%\n",
      "------------[ Gurobi ]-------------\n",
      "Solver claims optimal solution for feasible problem.\n",
      "Applying the solution.\n",
      "Applied solution is feasible.\n",
      "Search 2.2e-01s, solve 2.6e-01s, overhead 21%.\n",
      "=============[ PICOS ]=============\n"
     ]
    },
    {
     "data": {
      "text/plain": [
       "<feasible primal solution (claimed optimal) from gurobi>"
      ]
     },
     "execution_count": 15,
     "metadata": {},
     "output_type": "execute_result"
    }
   ],
   "source": [
    "P = picos.Problem()\n",
    "\n",
    "# Variables\n",
    "z = picos.IntegerVariable(\"z\", lower = 0)\n",
    "a = picos.BinaryVariable(\"a\", (n, n))\n",
    "C = picos.BinaryVariable(\"C\", n)\n",
    "\n",
    "# Objective function\n",
    "P.set_objective(\"min\", z)\n",
    "print(P)\n",
    "\n",
    "# Constraints\n",
    "for i in range(n):\n",
    "  P += (sum([a[i,j] for j in range(n)]) == 1)\n",
    "  \n",
    "P += (sum([C[j] for j in range(n)]) <= k)\n",
    "\n",
    "for j in range(n):\n",
    "  P += (sum([a[i,j] for i in range(n)]) <= C[j] * k)\n",
    "\n",
    "for i in range(n):\n",
    "  P += (z >= sum([d[i,j] * a[i,j] for j in range(n)]))\n",
    "\n",
    "P.solve(verbosity = 1, solver = 'gurobi')"
   ]
  },
  {
   "cell_type": "markdown",
   "metadata": {
    "id": "3sdNkV0ICtb7"
   },
   "source": [
    "You can print the solution in the next cell:"
   ]
  },
  {
   "cell_type": "code",
   "execution_count": 16,
   "metadata": {
    "colab": {
     "base_uri": "https://localhost:8080/"
    },
    "id": "czoZEmv1C1Iq",
    "outputId": "9d4ad989-c674-4760-8097-39933043f3dc"
   },
   "outputs": [
    {
     "name": "stdout",
     "output_type": "stream",
     "text": [
      "Objective value: 56.0\n",
      "Optimal solution\n",
      "z     = 56.0\n",
      "a  = [[ 1.  0. -0.  0.  0. -0.  0.  0. -0.  0.  0.  0.  0.  0.  0.  0.  0.  0.\n",
      "  -0. -0.]\n",
      " [ 0.  1. -0. -0. -0.  0.  0.  0.  0.  0. -0.  0.  0.  0.  0. -0.  0.  0.\n",
      "   0.  0.]\n",
      " [-0. -0. -0.  0.  0.  0.  0.  0.  0.  0.  0. -0.  0.  0.  0.  0.  1. -0.\n",
      "   0.  0.]\n",
      " [ 0.  1.  0. -0.  0.  0.  0.  0.  0.  0.  0. -0.  0.  0.  0.  0.  0.  0.\n",
      "   0.  0.]\n",
      " [ 0.  1.  0.  0. -0. -0. -0.  0.  0.  0.  0.  0. -0.  0. -0.  0.  0. -0.\n",
      "  -0. -0.]\n",
      " [ 1.  0.  0.  0.  0. -0.  0.  0.  0.  0.  0.  0.  0.  0. -0.  0.  0.  0.\n",
      "   0.  0.]\n",
      " [ 0.  0.  0.  0.  1.  0. -0. -0.  0.  0. -0.  0. -0.  0.  0.  0.  0.  0.\n",
      "   0.  0.]\n",
      " [ 0.  0.  0.  0.  0.  0. -0. -0.  0.  0.  0.  0. -0.  0.  0.  0.  1.  0.\n",
      "   0.  0.]\n",
      " [ 1.  0.  0.  0.  0.  0.  0.  0. -0.  0.  0.  0.  0.  0. -0. -0.  0.  0.\n",
      "   0.  0.]\n",
      " [ 0.  0.  0.  0.  0.  0.  0.  0.  0. -0.  0.  0.  0.  1.  0. -0.  0.  0.\n",
      "   0.  0.]\n",
      " [ 0.  1.  0.  0.  0.  0. -0.  0.  0.  0. -0.  0.  0.  0.  0.  0.  0.  0.\n",
      "   0.  0.]\n",
      " [ 0.  0. -0. -0.  0.  0.  0.  0.  0.  0.  0. -0.  0.  1.  0. -0.  0.  0.\n",
      "  -0.  0.]\n",
      " [ 0.  0.  0.  0.  1.  0. -0. -0.  0.  0.  0.  0. -0.  0.  0. -0.  0.  0.\n",
      "  -0.  0.]\n",
      " [ 0.  0.  0.  0.  0.  0.  0.  0.  0. -0.  0. -0.  0.  1. -0.  0.  0.  0.\n",
      "   0.  0.]\n",
      " [ 0.  0.  0.  0.  1. -0.  0.  0. -0.  0.  0.  0.  0. -0. -0.  0.  0.  0.\n",
      "   0.  0.]\n",
      " [ 0.  1.  0.  0.  0.  0.  0.  0. -0. -0.  0. -0. -0.  0.  0. -0.  0. -0.\n",
      "  -0.  0.]\n",
      " [ 0.  0. -0.  0.  0.  0.  0. -0. -0.  0.  0.  0.  0.  0.  0.  0.  1. -0.\n",
      "   0.  0.]\n",
      " [ 0.  0. -0.  0. -0.  0.  0.  0.  0.  0.  0.  0.  0.  0.  0. -0.  1. -0.\n",
      "   0.  0.]\n",
      " [ 1.  0.  0.  0. -0.  0.  0.  0.  0.  0.  0. -0. -0.  0.  0. -0.  0.  0.\n",
      "  -0.  0.]\n",
      " [ 1.  0.  0.  0. -0.  0.  0.  0.  0.  0.  0.  0.  0.  0.  0.  0.  0.  0.\n",
      "   0. -0.]]\n",
      "C    = [ 1.  1. -0. -0.  1. -0. -0. -0. -0. -0. -0. -0. -0.  1. -0. -0.  1. -0.\n",
      " -0. -0.]\n"
     ]
    }
   ],
   "source": [
    "print(f'Objective value: {P.value}')\n",
    "print(f'Optimal solution')\n",
    "print(f'z     = {z.np}')\n",
    "print(f'a  = {a.np}')\n",
    "print(f'C    = {C.np}')"
   ]
  },
  {
   "cell_type": "markdown",
   "metadata": {
    "id": "E8HRyiucGcRk"
   },
   "source": [
    "From here, we see that the global optimum is $z^{*}=56$ and that $C=\\{1,2,5,14,17\\}$ is a candidate index subset that solves the problem."
   ]
  },
  {
   "cell_type": "markdown",
   "metadata": {
    "id": "2ZsFF7adIGO1"
   },
   "source": [
    "---\n",
    "\n",
    "## Alternative approach: Interpretation as the $k$-center problem\n",
    "\n",
    "Upon noticing that the problem presented above is equivalent to the so-called $k$-center problem -- in which one tries to select a given number $k$ of facilities from possible $n$ points in a graph, in such a way that the maximum value of a distance from a customer to the closest facility is minimized -- we can use any IP formulation of the $k$-center problem as an alternative. Here we use the IP described in https://scipbook.readthedocs.io/en/latest/flp.html."
   ]
  },
  {
   "cell_type": "code",
   "execution_count": 14,
   "metadata": {
    "colab": {
     "base_uri": "https://localhost:8080/"
    },
    "id": "s7_2c_n1NtPa",
    "outputId": "8bcea6be-29da-48df-c033-16455f185aaa"
   },
   "outputs": [
    {
     "name": "stdout",
     "output_type": "stream",
     "text": [
      "Integer Linear Program\n",
      "  minimize z\n",
      "  over\n",
      "    1×1 integer variable z (bounded below)\n",
      "===================================\n",
      "            PICOS 2.3.1            \n",
      "===================================\n",
      "Problem type: Integer Linear Program.\n",
      "Searching a solution strategy.\n",
      "Solution strategy:\n",
      "  1. ExtraOptions\n",
      "  2. GurobiSolver\n",
      "Applying ExtraOptions.\n",
      "Building a Gurobi problem instance.\n",
      "Starting solution search.\n",
      "Set parameter FeasibilityTol to value 1e-08\n",
      "Set parameter OptimalityTol to value 1e-08\n",
      "Set parameter BarQCPConvTol to value 1e-10\n",
      "Set parameter MIPGapAbs to value 1e-06\n",
      "-----------------------------------\n",
      "         Gurobi Optimizer          \n",
      "-----------------------------------\n",
      "Gurobi Optimizer version 9.5.0 build v9.5.0rc5 (linux64)\n",
      "Thread count: 1 physical cores, 2 logical processors, using up to 2 threads\n",
      "Optimize a model with 441 rows, 421 columns and 1620 nonzeros\n",
      "Model fingerprint: 0xf48c4687\n",
      "Variable types: 0 continuous, 421 integer (420 binary)\n",
      "Coefficient statistics:\n",
      "  Matrix range     [1e+00, 2e+02]\n",
      "  Objective range  [1e+00, 1e+00]\n",
      "  Bounds range     [1e+00, 1e+00]\n",
      "  RHS range        [1e+00, 5e+00]\n",
      "\n",
      "No start values specified in MIP start\n",
      "\n",
      "Presolve time: 0.01s\n",
      "Presolved: 441 rows, 421 columns, 1620 nonzeros\n",
      "Variable types: 0 continuous, 421 integer (420 binary)\n",
      "Found heuristic solution: objective 180.0000000\n",
      "Found heuristic solution: objective 147.0000000\n",
      "Found heuristic solution: objective 139.0000000\n",
      "Found heuristic solution: objective 130.0000000\n",
      "\n",
      "Root relaxation: objective 3.184930e+01, 146 iterations, 0.01 seconds (0.00 work units)\n",
      "Another try with MIP start\n",
      "\n",
      "    Nodes    |    Current Node    |     Objective Bounds      |     Work\n",
      " Expl Unexpl |  Obj  Depth IntInf | Incumbent    BestBd   Gap | It/Node Time\n",
      "\n",
      "H    0     0                      56.0000000   31.84930  43.1%     -    0s\n",
      "     0     0   31.84930    0   90   56.00000   31.84930  43.1%     -    0s\n",
      "     0     0 infeasible    0        56.00000   56.00000  0.00%     -    0s\n",
      "\n",
      "Cutting planes:\n",
      "  Gomory: 4\n",
      "  Zero half: 5\n",
      "  RLT: 17\n",
      "  Relax-and-lift: 11\n",
      "\n",
      "Explored 1 nodes (238 simplex iterations) in 0.14 seconds (0.02 work units)\n",
      "Thread count was 2 (of 2 available processors)\n",
      "\n",
      "Solution count 5: 56 130 139 ... 180\n",
      "\n",
      "Optimal solution found (tolerance 1.00e-04)\n",
      "Best objective 5.600000000000e+01, best bound 5.600000000000e+01, gap 0.0000%\n",
      "------------[ Gurobi ]-------------\n",
      "Solver claims optimal solution for feasible problem.\n",
      "Applying the solution.\n",
      "Applied solution is feasible.\n",
      "Search 1.5e-01s, solve 2.7e-01s, overhead 78%.\n",
      "=============[ PICOS ]=============\n"
     ]
    },
    {
     "data": {
      "text/plain": [
       "<feasible primal solution (claimed optimal) from gurobi>"
      ]
     },
     "execution_count": 14,
     "metadata": {},
     "output_type": "execute_result"
    }
   ],
   "source": [
    "P = picos.Problem()\n",
    "\n",
    "# Variables\n",
    "z = picos.IntegerVariable(\"z\", lower = 0)\n",
    "a = picos.BinaryVariable(\"a\", (n, n))\n",
    "C = picos.BinaryVariable(\"C\", n)\n",
    "\n",
    "# Objective function\n",
    "P.set_objective(\"min\", z)\n",
    "print(P)\n",
    "\n",
    "# Constraints\n",
    "for i in range(n):\n",
    "  P += (sum([a[i,j] for j in range(n)]) == 1)\n",
    "  \n",
    "P += (sum([C[j] for j in range(n)]) <= k)\n",
    "\n",
    "for i in range(n):\n",
    "  for j in range(n):\n",
    "    P += (a[i,j] <= C[j])\n",
    "\n",
    "for i in range(n):\n",
    "  P += (z >= sum([d[i,j] * a[i,j] for j in range(n)]))\n",
    "\n",
    "P.solve(verbosity = 1, solver = 'gurobi')"
   ]
  },
  {
   "cell_type": "code",
   "execution_count": 6,
   "metadata": {
    "colab": {
     "base_uri": "https://localhost:8080/"
    },
    "id": "RxpLBCjzd2uQ",
    "outputId": "640ede31-6ad7-40a8-a9c5-44f71afbd3b4"
   },
   "outputs": [
    {
     "name": "stdout",
     "output_type": "stream",
     "text": [
      "Objective value: 56.0\n",
      "Optimal solution\n",
      "z     = 56.0\n",
      "a  = [[-0.  0. -0. -0. -0. -0. -0. -0. -0. -0. -0. -0. -0. -0. -0. -0. -0. -0.\n",
      "  -0.  1.]\n",
      " [ 0.  1.  0.  0.  0. -0. -0. -0. -0. -0. -0. -0. -0. -0. -0. -0. -0. -0.\n",
      "  -0. -0.]\n",
      " [-0.  0. -0.  0.  0. -0. -0. -0. -0. -0. -0. -0. -0. -0. -0. -0.  1. -0.\n",
      "  -0. -0.]\n",
      " [-0.  1.  0.  0. -0. -0. -0. -0. -0. -0. -0. -0. -0. -0. -0. -0. -0. -0.\n",
      "  -0. -0.]\n",
      " [-0.  0.  0. -0.  1. -0. -0. -0. -0. -0. -0. -0. -0. -0. -0. -0. -0. -0.\n",
      "  -0.  0.]\n",
      " [ 0.  0.  0.  0.  1. -0. -0. -0. -0. -0. -0. -0. -0. -0. -0. -0. -0. -0.\n",
      "  -0. -0.]\n",
      " [ 0.  0.  0.  0.  1. -0. -0. -0. -0. -0. -0. -0. -0. -0. -0. -0. -0. -0.\n",
      "  -0. -0.]\n",
      " [ 0.  0. -0.  0.  0. -0. -0. -0. -0. -0. -0. -0. -0. -0. -0. -0.  1. -0.\n",
      "  -0. -0.]\n",
      " [-0. -0.  0. -0.  0. -0. -0. -0. -0. -0. -0. -0. -0. -0. -0. -0.  1. -0.\n",
      "  -0. -0.]\n",
      " [ 0.  0.  0.  0.  0. -0. -0. -0. -0. -0. -0. -0. -0.  1. -0. -0. -0. -0.\n",
      "  -0. -0.]\n",
      " [ 0.  1.  0.  0. -0. -0. -0. -0. -0. -0. -0. -0. -0. -0. -0. -0. -0. -0.\n",
      "  -0. -0.]\n",
      " [-0.  0.  0.  0.  0. -0. -0. -0. -0. -0. -0. -0. -0.  1. -0. -0. -0. -0.\n",
      "  -0. -0.]\n",
      " [-0. -0. -0.  0.  1. -0. -0. -0. -0. -0. -0. -0. -0. -0. -0. -0. -0. -0.\n",
      "  -0. -0.]\n",
      " [-0.  0.  0.  0. -0. -0. -0. -0. -0. -0. -0. -0. -0.  1. -0. -0. -0. -0.\n",
      "  -0. -0.]\n",
      " [ 0. -0. -0.  0.  1. -0. -0. -0. -0. -0. -0. -0. -0. -0. -0. -0. -0. -0.\n",
      "  -0. -0.]\n",
      " [ 0.  1.  0.  0.  0. -0. -0. -0. -0. -0. -0. -0. -0. -0. -0. -0. -0. -0.\n",
      "  -0. -0.]\n",
      " [-0.  0.  0.  0. -0. -0. -0. -0. -0. -0. -0. -0. -0. -0. -0. -0.  1. -0.\n",
      "  -0. -0.]\n",
      " [ 0.  0. -0.  0.  1. -0. -0. -0. -0. -0. -0. -0. -0. -0. -0. -0. -0. -0.\n",
      "  -0. -0.]\n",
      " [ 0. -0.  0.  0.  1. -0. -0. -0. -0. -0. -0. -0. -0. -0. -0. -0. -0. -0.\n",
      "  -0. -0.]\n",
      " [-0.  0.  0.  0. -0. -0. -0. -0. -0. -0. -0. -0. -0. -0. -0. -0. -0. -0.\n",
      "  -0.  1.]]\n",
      "C    = [-0.  1. -0. -0.  1. -0. -0. -0. -0. -0. -0. -0. -0.  1. -0. -0.  1. -0.\n",
      " -0.  1.]\n"
     ]
    }
   ],
   "source": [
    "print(f'Objective value: {P.value}')\n",
    "print(f'Optimal solution')\n",
    "print(f'z     = {z.np}')\n",
    "print(f'a  = {a.np}')\n",
    "print(f'C    = {C.np}')"
   ]
  },
  {
   "cell_type": "markdown",
   "metadata": {
    "id": "ArbAnjqdOdz4"
   },
   "source": [
    "The global optimum is also $z^{*}=56$ for this IP, but in this case we obtain a slightly different candidate subset, namely $C=\\{2,5,14,17,20\\}$."
   ]
  }
 ],
 "metadata": {
  "colab": {
   "collapsed_sections": [],
   "name": "Copy of ADMI_ProgrammingExercise1.ipynb",
   "provenance": []
  },
  "kernelspec": {
   "display_name": "Python 3",
   "language": "python",
   "name": "python3"
  },
  "language_info": {
   "codemirror_mode": {
    "name": "ipython",
    "version": 3
   },
   "file_extension": ".py",
   "mimetype": "text/x-python",
   "name": "python",
   "nbconvert_exporter": "python",
   "pygments_lexer": "ipython3",
   "version": "3.7.1"
  }
 },
 "nbformat": 4,
 "nbformat_minor": 1
}
